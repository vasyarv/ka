{
 "metadata": {
  "name": "",
  "signature": "sha256:4e1490c9232aa35b8355d22d31ee371c532f0ed93c543929b72ee761ce682c0d"
 },
 "nbformat": 3,
 "nbformat_minor": 0,
 "worksheets": [
  {
   "cells": [
    {
     "cell_type": "code",
     "collapsed": false,
     "input": [
      "import requests\n",
      "from bs4 import BeautifulSoup\n",
      "import pandas as pd"
     ],
     "language": "python",
     "metadata": {},
     "outputs": [],
     "prompt_number": 94
    },
    {
     "cell_type": "code",
     "collapsed": false,
     "input": [
      "start_url = \"https://en.wikipedia.org/wiki/Category:Science\"\n",
      "base_url = \"https://en.wikipedia.org/wiki/Category:\"\n",
      "base_url = \"https://simple.wikipedia.org/wiki/Category:\"\n",
      "pages = []\n",
      "categories = ['Science']"
     ],
     "language": "python",
     "metadata": {},
     "outputs": [],
     "prompt_number": 78
    },
    {
     "cell_type": "code",
     "collapsed": false,
     "input": [
      "def get_categories(url):\n",
      "    r = requests.get(url)\n",
      "    html = r.text\n",
      "    parsed_html = BeautifulSoup(html)\n",
      "    links = parsed_html.findAll(\"a\", { \"class\" : \"CategoryTreeLabel\" })\n",
      "    return [l.text for l in links]"
     ],
     "language": "python",
     "metadata": {},
     "outputs": [],
     "prompt_number": 33
    },
    {
     "cell_type": "code",
     "collapsed": false,
     "input": [
      "def get_pages(url):\n",
      "    r = requests.get(url)\n",
      "    html = r.text\n",
      "    parsed_html = BeautifulSoup(html)\n",
      "    parsed_html = parsed_html.find(\"div\", {\"id\": \"mw-pages\"})\n",
      "    if parsed_html is None:\n",
      "        return []\n",
      "    links = parsed_html.findAll(\"a\")\n",
      "    if len(links) == 0:\n",
      "        return []\n",
      "    return [l.text for l in links[1:]]"
     ],
     "language": "python",
     "metadata": {},
     "outputs": [],
     "prompt_number": 67
    },
    {
     "cell_type": "code",
     "collapsed": false,
     "input": [
      "def get_all_categories(start_category):\n",
      "    global base_url\n",
      "    categories = get_categories(base_url+category)\n",
      "    for i in range(len(categories)):\n",
      "        categories = categories + get_categories(base_url+categories[i])"
     ],
     "language": "python",
     "metadata": {},
     "outputs": [],
     "prompt_number": 51
    },
    {
     "cell_type": "code",
     "collapsed": false,
     "input": [
      "def get_all_pages(start_category):\n",
      "    global base_url\n",
      "    pages = get_pages(base_url + start_category)\n",
      "    categories = get_categories(base_url + start_category)\n",
      "    for c in categories:\n",
      "        pages = pages + get_all_pages(c)\n",
      "    print start_category\n",
      "    return pages"
     ],
     "language": "python",
     "metadata": {},
     "outputs": [],
     "prompt_number": 87
    },
    {
     "cell_type": "code",
     "collapsed": false,
     "input": [
      "#save to file\n"
     ],
     "language": "python",
     "metadata": {},
     "outputs": []
    },
    {
     "cell_type": "code",
     "collapsed": false,
     "input": [
      "p = get_all_pages('Physics')"
     ],
     "language": "python",
     "metadata": {},
     "outputs": [
      {
       "output_type": "stream",
       "stream": "stdout",
       "text": [
        "Astrophysicists\n",
        "Supernovae"
       ]
      },
      {
       "output_type": "stream",
       "stream": "stdout",
       "text": [
        "\n",
        "Astrophysics\n",
        "Force"
       ]
      },
      {
       "output_type": "stream",
       "stream": "stdout",
       "text": [
        "\n",
        "Greenhouse gases"
       ]
      },
      {
       "output_type": "stream",
       "stream": "stdout",
       "text": [
        "\n",
        "Noble gas compounds"
       ]
      },
      {
       "output_type": "stream",
       "stream": "stdout",
       "text": [
        "\n",
        "Noble gases\n",
        "Gases\n",
        "States of matter\n",
        "Quarks"
       ]
      },
      {
       "output_type": "stream",
       "stream": "stdout",
       "text": [
        "\n",
        "Elementary particles\n",
        "Subatomic particles\n",
        "Matter\n",
        "Basic physics ideas\n",
        "Creation myths"
       ]
      },
      {
       "output_type": "stream",
       "stream": "stdout",
       "text": [
        "\n",
        "Cosmology\n",
        "Elasticity (physics)"
       ]
      }
     ]
    },
    {
     "cell_type": "code",
     "collapsed": false,
     "input": [
      "pd.DataFrame({'page': p})[['page']].to_csv(\"pages.csv\", index = False)\n"
     ],
     "language": "python",
     "metadata": {},
     "outputs": [],
     "prompt_number": 97
    }
   ],
   "metadata": {}
  }
 ]
}